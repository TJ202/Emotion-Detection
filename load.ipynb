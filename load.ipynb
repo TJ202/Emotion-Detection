{
 "cells": [
  {
   "cell_type": "markdown",
   "metadata": {},
   "source": [
    "# Importing Libraries"
   ]
  },
  {
   "cell_type": "code",
   "execution_count": 66,
   "metadata": {},
   "outputs": [],
   "source": [
    "from tensorflow import keras\n",
    "import cv2\n",
    "import matplotlib.pyplot as plt\n",
    "import tensorflow as tf\n",
    "plt.style.use('default')"
   ]
  },
  {
   "cell_type": "markdown",
   "metadata": {},
   "source": [
    "## Loading the CNN Model"
   ]
  },
  {
   "cell_type": "code",
   "execution_count": 67,
   "metadata": {},
   "outputs": [],
   "source": [
    "CNN_Model = keras.models.load_model('CNN_Model.h5')"
   ]
  },
  {
   "cell_type": "code",
   "execution_count": 68,
   "metadata": {},
   "outputs": [],
   "source": [
    "Emotion_Classes = ['Angry', \n",
    "                  'Disgust', \n",
    "                  'Fear', \n",
    "                  'Happy', \n",
    "                  'Neutral', \n",
    "                  'Sad', \n",
    "                  'Surprise']"
   ]
  },
  {
   "cell_type": "code",
   "execution_count": 69,
   "metadata": {},
   "outputs": [],
   "source": [
    "faceCascade = cv2.CascadeClassifier('haarcascade_frontalface_default.xml')"
   ]
  },
  {
   "cell_type": "markdown",
   "metadata": {},
   "source": [
    "## Prediction using CNN Model"
   ]
  },
  {
   "cell_type": "code",
   "execution_count": 70,
   "metadata": {},
   "outputs": [],
   "source": [
    "def load_and_prep_image(filename, img_shape = 48):\n",
    "\n",
    "    img = cv2.imread(filename)\n",
    "\n",
    "    GrayImg = cv2.cvtColor(img,cv2.COLOR_BGR2GRAY)\n",
    "    \n",
    "    faces = faceCascade.detectMultiScale(GrayImg, 1.1, 4)\n",
    "    \n",
    "    for x,y,w,h in faces:\n",
    "        \n",
    "        roi_GrayImg = GrayImg[ y: y + h , x: x + w ]\n",
    "        roi_Img = img[ y: y + h , x: x + w ]\n",
    "        \n",
    "        cv2.rectangle(img, (x,y), (x+w, y+h), (0, 255, 0), 2)\n",
    "        \n",
    "        plt.imshow(cv2.cvtColor(img,cv2.COLOR_BGR2RGB))\n",
    "        \n",
    "        faces = faceCascade.detectMultiScale(roi_Img, 1.1, 4)\n",
    "        \n",
    "        if len(faces) == 0:\n",
    "            print(\"No Faces Detected\")\n",
    "        else:\n",
    "            for (ex, ey, ew, eh) in faces:\n",
    "                img = roi_Img[ ey: ey+eh , ex: ex+ew ]\n",
    "    \n",
    "    RGBImg = cv2.cvtColor(img,cv2.COLOR_BGR2RGB)\n",
    "    \n",
    "    RGBImg= cv2.resize(RGBImg,(img_shape,img_shape))\n",
    "\n",
    "    RGBImg = RGBImg/255.\n",
    "\n",
    "    return RGBImg"
   ]
  },
  {
   "cell_type": "code",
   "execution_count": 71,
   "metadata": {},
   "outputs": [],
   "source": [
    "def pred_and_plot(filename, class_names):\n",
    "    \n",
    "    # Import the target image and preprocess it\n",
    "    img = load_and_prep_image(filename)\n",
    "\n",
    "    # Make a prediction\n",
    "    pred = CNN_Model.predict(tf.expand_dims(img, axis=0) , verbose=0)\n",
    "\n",
    "    # Get the predicted class\n",
    "    pred_class = class_names[pred.argmax()]\n",
    "\n",
    "    # Plot the image and predicted class\n",
    "    plt.imshow(img)\n",
    "    plt.title(f\"Prediction: {pred_class}\")\n",
    "    plt.axis(False);"
   ]
  },
  {
   "cell_type": "code",
   "execution_count": 72,
   "metadata": {},
   "outputs": [
    {
     "data": {
      "image/png": "[encoded data removed]",
      "text/plain": [
       "<Figure size 640x480 with 1 Axes>"
      ]
     },
     "metadata": {},
     "output_type": "display_data"
    }
   ],
   "source": [
    "pred_and_plot(\"test/sad/PrivateTest_13472479.jpg\", Emotion_Classes) # with CNN"
   ]
  },
  {
   "cell_type": "code",
   "execution_count": 73,
   "metadata": {},
   "outputs": [
    {
     "data": {
      "image/png": "[encoded data removed]",
      "text/plain": [
       "<Figure size 640x480 with 1 Axes>"
      ]
     },
     "metadata": {},
     "output_type": "display_data"
    }
   ],
   "source": [
    "pred_and_plot(\"test/neutral/PrivateTest_59059.jpg\", Emotion_Classes) # with CNN"
   ]
  }
 ],
 "metadata": {
  "kernelspec": {
   "display_name": "Python 3.10.4 64-bit",
   "language": "python",
   "name": "python3"
  },
  "language_info": {
   "codemirror_mode": {
    "name": "ipython",
    "version": 3
   },
   "file_extension": ".py",
   "mimetype": "text/x-python",
   "name": "python",
   "nbconvert_exporter": "python",
   "pygments_lexer": "ipython3",
   "version": "3.10.4"
  },
  "orig_nbformat": 4,
  "vscode": {
   "interpreter": {
    "hash": "b91756f49a92f1f8b441dd3e8fbdea64c4a505a1b70c604b14da37a53f00ed52"
   }
  }
 },
 "nbformat": 4,
 "nbformat_minor": 2
}
